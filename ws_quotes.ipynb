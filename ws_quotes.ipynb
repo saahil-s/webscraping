{
 "cells": [
  {
   "cell_type": "code",
   "execution_count": 58,
   "id": "88d8ebf3",
   "metadata": {},
   "outputs": [],
   "source": [
    "from selenium import webdriver\n",
    "from selenium.common.exceptions import NoSuchElementException\n",
    "from selenium.webdriver.common.by import By\n",
    "import pandas as pd\n",
    "from time import sleep"
   ]
  },
  {
   "cell_type": "code",
   "execution_count": 61,
   "id": "53ad4b37",
   "metadata": {},
   "outputs": [],
   "source": [
    "# Creating web driver to access web page\n",
    "\n",
    "cService = webdriver.ChromeService(executable_path=\"C:/Users/saahi/Downloads/CS/chromedriver-win64/chromedriver-win64/chromedriver.exe\")\n",
    "\n",
    "driver = webdriver.Chrome(service=cService)"
   ]
  },
  {
   "cell_type": "code",
   "execution_count": 62,
   "id": "8a68f9de",
   "metadata": {},
   "outputs": [],
   "source": [
    "df = pd.DataFrame(columns=[\"Quote\", \"Author\"])"
   ]
  },
  {
   "cell_type": "code",
   "execution_count": 63,
   "id": "9b630f4f",
   "metadata": {},
   "outputs": [],
   "source": [
    "url = \"https://quotes.toscrape.com/\"\n",
    "driver.get(url)"
   ]
  },
  {
   "cell_type": "code",
   "execution_count": 64,
   "id": "791c0f17",
   "metadata": {},
   "outputs": [
    {
     "name": "stdout",
     "output_type": "stream",
     "text": [
      "Reached the last page.\n"
     ]
    },
    {
     "data": {
      "application/vnd.microsoft.datawrangler.viewer.v0+json": {
       "columns": [
        {
         "name": "index",
         "rawType": "int64",
         "type": "integer"
        },
        {
         "name": "Quote",
         "rawType": "object",
         "type": "string"
        },
        {
         "name": "Author",
         "rawType": "object",
         "type": "string"
        }
       ],
       "conversionMethod": "pd.DataFrame",
       "ref": "ad10f295-d7b4-41a9-b00d-c2a1110aa00e",
       "rows": [
        [
         "0",
         "“The world as we have created it is a process of our thinking. It cannot be changed without changing our thinking.”",
         "Albert Einstein"
        ],
        [
         "1",
         "“It is our choices, Harry, that show what we truly are, far more than our abilities.”",
         "J.K. Rowling"
        ],
        [
         "2",
         "“There are only two ways to live your life. One is as though nothing is a miracle. The other is as though everything is a miracle.”",
         "Albert Einstein"
        ],
        [
         "3",
         "“The person, be it gentleman or lady, who has not pleasure in a good novel, must be intolerably stupid.”",
         "Jane Austen"
        ],
        [
         "4",
         "“Imperfection is beauty, madness is genius and it's better to be absolutely ridiculous than absolutely boring.”",
         "Marilyn Monroe"
        ],
        [
         "5",
         "“Try not to become a man of success. Rather become a man of value.”",
         "Albert Einstein"
        ],
        [
         "6",
         "“It is better to be hated for what you are than to be loved for what you are not.”",
         "André Gide"
        ],
        [
         "7",
         "“I have not failed. I've just found 10,000 ways that won't work.”",
         "Thomas A. Edison"
        ],
        [
         "8",
         "“A woman is like a tea bag; you never know how strong it is until it's in hot water.”",
         "Eleanor Roosevelt"
        ],
        [
         "9",
         "“A day without sunshine is like, you know, night.”",
         "Steve Martin"
        ],
        [
         "10",
         "“This life is what you make it. No matter what, you're going to mess up sometimes, it's a universal truth. But the good part is you get to decide how you're going to mess it up. Girls will be your friends - they'll act like it anyway. But just remember, some come, some go. The ones that stay with you through everything - they're your true best friends. Don't let go of them. Also remember, sisters make the best friends in the world. As for lovers, well, they'll come and go too. And baby, I hate to say it, most of them - actually pretty much all of them are going to break your heart, but you can't give up because if you give up, you'll never find your soulmate. You'll never find that half who makes you whole and that goes for everything. Just because you fail once, doesn't mean you're gonna fail at everything. Keep trying, hold on, and always, always, always believe in yourself, because if you don't, then who will, sweetie? So keep your head high, keep your chin up, and most importantly, keep smiling, because life's a beautiful thing and there's so much to smile about.”",
         "Marilyn Monroe"
        ],
        [
         "11",
         "“It takes a great deal of bravery to stand up to our enemies, but just as much to stand up to our friends.”",
         "J.K. Rowling"
        ],
        [
         "12",
         "“If you can't explain it to a six year old, you don't understand it yourself.”",
         "Albert Einstein"
        ],
        [
         "13",
         "“You may not be her first, her last, or her only. She loved before she may love again. But if she loves you now, what else matters? She's not perfect—you aren't either, and the two of you may never be perfect together but if she can make you laugh, cause you to think twice, and admit to being human and making mistakes, hold onto her and give her the most you can. She may not be thinking about you every second of the day, but she will give you a part of her that she knows you can break—her heart. So don't hurt her, don't change her, don't analyze and don't expect more than she can give. Smile when she makes you happy, let her know when she makes you mad, and miss her when she's not there.”",
         "Bob Marley"
        ],
        [
         "14",
         "“I like nonsense, it wakes up the brain cells. Fantasy is a necessary ingredient in living.”",
         "Dr. Seuss"
        ],
        [
         "15",
         "“I may not have gone where I intended to go, but I think I have ended up where I needed to be.”",
         "Douglas Adams"
        ],
        [
         "16",
         "“The opposite of love is not hate, it's indifference. The opposite of art is not ugliness, it's indifference. The opposite of faith is not heresy, it's indifference. And the opposite of life is not death, it's indifference.”",
         "Elie Wiesel"
        ],
        [
         "17",
         "“It is not a lack of love, but a lack of friendship that makes unhappy marriages.”",
         "Friedrich Nietzsche"
        ],
        [
         "18",
         "“Good friends, good books, and a sleepy conscience: this is the ideal life.”",
         "Mark Twain"
        ],
        [
         "19",
         "“Life is what happens to us while we are making other plans.”",
         "Allen Saunders"
        ],
        [
         "20",
         "“I love you without knowing how, or when, or from where. I love you simply, without problems or pride: I love you in this way because I do not know any other way of loving but this, in which there is no I or you, so intimate that your hand upon my chest is my hand, so intimate that when I fall asleep your eyes close.”",
         "Pablo Neruda"
        ],
        [
         "21",
         "“For every minute you are angry you lose sixty seconds of happiness.”",
         "Ralph Waldo Emerson"
        ],
        [
         "22",
         "“If you judge people, you have no time to love them.”",
         "Mother Teresa"
        ],
        [
         "23",
         "“Anyone who thinks sitting in church can make you a Christian must also think that sitting in a garage can make you a car.”",
         "Garrison Keillor"
        ],
        [
         "24",
         "“Beauty is in the eye of the beholder and it may be necessary from time to time to give a stupid or misinformed beholder a black eye.”",
         "Jim Henson"
        ],
        [
         "25",
         "“Today you are You, that is truer than true. There is no one alive who is Youer than You.”",
         "Dr. Seuss"
        ],
        [
         "26",
         "“If you want your children to be intelligent, read them fairy tales. If you want them to be more intelligent, read them more fairy tales.”",
         "Albert Einstein"
        ],
        [
         "27",
         "“It is impossible to live without failing at something, unless you live so cautiously that you might as well not have lived at all - in which case, you fail by default.”",
         "J.K. Rowling"
        ],
        [
         "28",
         "“Logic will get you from A to Z; imagination will get you everywhere.”",
         "Albert Einstein"
        ],
        [
         "29",
         "“One good thing about music, when it hits you, you feel no pain.”",
         "Bob Marley"
        ],
        [
         "30",
         "“The more that you read, the more things you will know. The more that you learn, the more places you'll go.”",
         "Dr. Seuss"
        ],
        [
         "31",
         "“Of course it is happening inside your head, Harry, but why on earth should that mean that it is not real?”",
         "J.K. Rowling"
        ],
        [
         "32",
         "“The truth is, everyone is going to hurt you. You just got to find the ones worth suffering for.”",
         "Bob Marley"
        ],
        [
         "33",
         "“Not all of us can do great things. But we can do small things with great love.”",
         "Mother Teresa"
        ],
        [
         "34",
         "“To the well-organized mind, death is but the next great adventure.”",
         "J.K. Rowling"
        ],
        [
         "35",
         "“All you need is love. But a little chocolate now and then doesn't hurt.”",
         "Charles M. Schulz"
        ],
        [
         "36",
         "“We read to know we're not alone.”",
         "William Nicholson"
        ],
        [
         "37",
         "“Any fool can know. The point is to understand.”",
         "Albert Einstein"
        ],
        [
         "38",
         "“I have always imagined that Paradise will be a kind of library.”",
         "Jorge Luis Borges"
        ],
        [
         "39",
         "“It is never too late to be what you might have been.”",
         "George Eliot"
        ],
        [
         "40",
         "“A reader lives a thousand lives before he dies, said Jojen. The man who never reads lives only one.”",
         "George R.R. Martin"
        ],
        [
         "41",
         "“You can never get a cup of tea large enough or a book long enough to suit me.”",
         "C.S. Lewis"
        ],
        [
         "42",
         "“You believe lies so you eventually learn to trust no one but yourself.”",
         "Marilyn Monroe"
        ],
        [
         "43",
         "“If you can make a woman laugh, you can make her do anything.”",
         "Marilyn Monroe"
        ],
        [
         "44",
         "“Life is like riding a bicycle. To keep your balance, you must keep moving.”",
         "Albert Einstein"
        ],
        [
         "45",
         "“The real lover is the man who can thrill you by kissing your forehead or smiling into your eyes or just staring into space.”",
         "Marilyn Monroe"
        ],
        [
         "46",
         "“A wise girl kisses but doesn't love, listens but doesn't believe, and leaves before she is left.”",
         "Marilyn Monroe"
        ],
        [
         "47",
         "“Only in the darkness can you see the stars.”",
         "Martin Luther King Jr."
        ],
        [
         "48",
         "“It matters not what someone is born, but what they grow to be.”",
         "J.K. Rowling"
        ],
        [
         "49",
         "“Love does not begin and end the way we seem to think it does. Love is a battle, love is a war; love is a growing up.”",
         "James Baldwin"
        ]
       ],
       "shape": {
        "columns": 2,
        "rows": 100
       }
      },
      "text/html": [
       "<div>\n",
       "<style scoped>\n",
       "    .dataframe tbody tr th:only-of-type {\n",
       "        vertical-align: middle;\n",
       "    }\n",
       "\n",
       "    .dataframe tbody tr th {\n",
       "        vertical-align: top;\n",
       "    }\n",
       "\n",
       "    .dataframe thead th {\n",
       "        text-align: right;\n",
       "    }\n",
       "</style>\n",
       "<table border=\"1\" class=\"dataframe\">\n",
       "  <thead>\n",
       "    <tr style=\"text-align: right;\">\n",
       "      <th></th>\n",
       "      <th>Quote</th>\n",
       "      <th>Author</th>\n",
       "    </tr>\n",
       "  </thead>\n",
       "  <tbody>\n",
       "    <tr>\n",
       "      <th>0</th>\n",
       "      <td>“The world as we have created it is a process ...</td>\n",
       "      <td>Albert Einstein</td>\n",
       "    </tr>\n",
       "    <tr>\n",
       "      <th>1</th>\n",
       "      <td>“It is our choices, Harry, that show what we t...</td>\n",
       "      <td>J.K. Rowling</td>\n",
       "    </tr>\n",
       "    <tr>\n",
       "      <th>2</th>\n",
       "      <td>“There are only two ways to live your life. On...</td>\n",
       "      <td>Albert Einstein</td>\n",
       "    </tr>\n",
       "    <tr>\n",
       "      <th>3</th>\n",
       "      <td>“The person, be it gentleman or lady, who has ...</td>\n",
       "      <td>Jane Austen</td>\n",
       "    </tr>\n",
       "    <tr>\n",
       "      <th>4</th>\n",
       "      <td>“Imperfection is beauty, madness is genius and...</td>\n",
       "      <td>Marilyn Monroe</td>\n",
       "    </tr>\n",
       "    <tr>\n",
       "      <th>...</th>\n",
       "      <td>...</td>\n",
       "      <td>...</td>\n",
       "    </tr>\n",
       "    <tr>\n",
       "      <th>95</th>\n",
       "      <td>“You never really understand a person until yo...</td>\n",
       "      <td>Harper Lee</td>\n",
       "    </tr>\n",
       "    <tr>\n",
       "      <th>96</th>\n",
       "      <td>“You have to write the book that wants to be w...</td>\n",
       "      <td>Madeleine L'Engle</td>\n",
       "    </tr>\n",
       "    <tr>\n",
       "      <th>97</th>\n",
       "      <td>“Never tell the truth to people who are not wo...</td>\n",
       "      <td>Mark Twain</td>\n",
       "    </tr>\n",
       "    <tr>\n",
       "      <th>98</th>\n",
       "      <td>“A person's a person, no matter how small.”</td>\n",
       "      <td>Dr. Seuss</td>\n",
       "    </tr>\n",
       "    <tr>\n",
       "      <th>99</th>\n",
       "      <td>“... a mind needs books as a sword needs a whe...</td>\n",
       "      <td>George R.R. Martin</td>\n",
       "    </tr>\n",
       "  </tbody>\n",
       "</table>\n",
       "<p>100 rows × 2 columns</p>\n",
       "</div>"
      ],
      "text/plain": [
       "                                                Quote              Author\n",
       "0   “The world as we have created it is a process ...     Albert Einstein\n",
       "1   “It is our choices, Harry, that show what we t...        J.K. Rowling\n",
       "2   “There are only two ways to live your life. On...     Albert Einstein\n",
       "3   “The person, be it gentleman or lady, who has ...         Jane Austen\n",
       "4   “Imperfection is beauty, madness is genius and...      Marilyn Monroe\n",
       "..                                                ...                 ...\n",
       "95  “You never really understand a person until yo...          Harper Lee\n",
       "96  “You have to write the book that wants to be w...   Madeleine L'Engle\n",
       "97  “Never tell the truth to people who are not wo...          Mark Twain\n",
       "98        “A person's a person, no matter how small.”           Dr. Seuss\n",
       "99  “... a mind needs books as a sword needs a whe...  George R.R. Martin\n",
       "\n",
       "[100 rows x 2 columns]"
      ]
     },
     "execution_count": 64,
     "metadata": {},
     "output_type": "execute_result"
    }
   ],
   "source": [
    "while True:\n",
    "    # Process data on the current page\n",
    "    quotes = driver.find_elements(By.CSS_SELECTOR, \"div.quote\")\n",
    "    for quote in quotes:\n",
    "        text = quote.find_element(By.CSS_SELECTOR, \"span.text\").text\n",
    "        author = quote.find_element(By.CSS_SELECTOR, \"small.author\").text\n",
    "        new_row = pd.DataFrame({'Quote':[text], 'Author':[author]})\n",
    "        df = pd.concat([df, new_row], ignore_index=True)\n",
    "    \n",
    "    try:\n",
    "        # Wait a little if needed\n",
    "        sleep(1)\n",
    "        # Try to find the \"Next\" button and click it\n",
    "        next_button = driver.find_element(By.CSS_SELECTOR, 'li.next a')\n",
    "        next_button.click()\n",
    "    except NoSuchElementException:\n",
    "        # If there's no \"Next\" button, we've reached the last page\n",
    "        print(\"Reached the last page.\")\n",
    "        break\n",
    "df"
   ]
  }
 ],
 "metadata": {
  "kernelspec": {
   "display_name": "base",
   "language": "python",
   "name": "python3"
  },
  "language_info": {
   "codemirror_mode": {
    "name": "ipython",
    "version": 3
   },
   "file_extension": ".py",
   "mimetype": "text/x-python",
   "name": "python",
   "nbconvert_exporter": "python",
   "pygments_lexer": "ipython3",
   "version": "3.11.5"
  }
 },
 "nbformat": 4,
 "nbformat_minor": 5
}
